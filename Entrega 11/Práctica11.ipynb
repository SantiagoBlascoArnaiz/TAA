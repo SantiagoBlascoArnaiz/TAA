{
 "cells": [
  {
   "cell_type": "markdown",
   "metadata": {},
   "source": [
    "# Práctica 11\n",
    "\n",
    "# Redes neuronales de Funciones de Base Radial (RBF) y Máquinas de Vectores Soporte (SVM)"
   ]
  },
  {
   "cell_type": "markdown",
   "metadata": {},
   "source": [
    "## Santiago Blasco Arnaiz"
   ]
  },
  {
   "cell_type": "code",
   "execution_count": 1,
   "metadata": {},
   "outputs": [],
   "source": [
    "from sklearn.cluster import KMeans\n",
    "import numpy as np\n",
    "import pandas as pd\n",
    "from sklearn.datasets import load_breast_cancer\n",
    "from sklearn.model_selection import StratifiedKFold\n",
    "from scipy.stats import mode\n",
    "from sklearn.cluster import KMeans\n",
    "from sklearn.preprocessing import StandardScaler, MinMaxScaler\n",
    "from sklearn.metrics import accuracy_score\n",
    "import warnings"
   ]
  },
  {
   "cell_type": "code",
   "execution_count": 2,
   "metadata": {},
   "outputs": [],
   "source": [
    "warnings.simplefilter(action='ignore', category=FutureWarning)"
   ]
  },
  {
   "cell_type": "code",
   "execution_count": 3,
   "metadata": {},
   "outputs": [
    {
     "name": "stdout",
     "output_type": "stream",
     "text": [
      ".. _breast_cancer_dataset:\n",
      "\n",
      "Breast cancer wisconsin (diagnostic) dataset\n",
      "--------------------------------------------\n",
      "\n",
      "**Data Set Characteristics:**\n",
      "\n",
      "    :Number of Instances: 569\n",
      "\n",
      "    :Number of Attributes: 30 numeric, predictive attributes and the class\n",
      "\n",
      "    :Attribute Information:\n",
      "        - radius (mean of distances from center to points on the perimeter)\n",
      "        - texture (standard deviation of gray-scale values)\n",
      "        - perimeter\n",
      "        - area\n",
      "        - smoothness (local variation in radius lengths)\n",
      "        - compactness (perimeter^2 / area - 1.0)\n",
      "        - concavity (severity of concave portions of the contour)\n",
      "        - concave points (number of concave portions of the contour)\n",
      "        - symmetry \n",
      "        - fractal dimension (\"coastline approximation\" - 1)\n",
      "\n",
      "        The mean, standard error, and \"worst\" or largest (mean of the three\n",
      "        largest values) of these features were computed for each image,\n",
      "        resulting in 30 features.  For instance, field 3 is Mean Radius, field\n",
      "        13 is Radius SE, field 23 is Worst Radius.\n",
      "\n",
      "        - class:\n",
      "                - WDBC-Malignant\n",
      "                - WDBC-Benign\n",
      "\n",
      "    :Summary Statistics:\n",
      "\n",
      "    ===================================== ====== ======\n",
      "                                           Min    Max\n",
      "    ===================================== ====== ======\n",
      "    radius (mean):                        6.981  28.11\n",
      "    texture (mean):                       9.71   39.28\n",
      "    perimeter (mean):                     43.79  188.5\n",
      "    area (mean):                          143.5  2501.0\n",
      "    smoothness (mean):                    0.053  0.163\n",
      "    compactness (mean):                   0.019  0.345\n",
      "    concavity (mean):                     0.0    0.427\n",
      "    concave points (mean):                0.0    0.201\n",
      "    symmetry (mean):                      0.106  0.304\n",
      "    fractal dimension (mean):             0.05   0.097\n",
      "    radius (standard error):              0.112  2.873\n",
      "    texture (standard error):             0.36   4.885\n",
      "    perimeter (standard error):           0.757  21.98\n",
      "    area (standard error):                6.802  542.2\n",
      "    smoothness (standard error):          0.002  0.031\n",
      "    compactness (standard error):         0.002  0.135\n",
      "    concavity (standard error):           0.0    0.396\n",
      "    concave points (standard error):      0.0    0.053\n",
      "    symmetry (standard error):            0.008  0.079\n",
      "    fractal dimension (standard error):   0.001  0.03\n",
      "    radius (worst):                       7.93   36.04\n",
      "    texture (worst):                      12.02  49.54\n",
      "    perimeter (worst):                    50.41  251.2\n",
      "    area (worst):                         185.2  4254.0\n",
      "    smoothness (worst):                   0.071  0.223\n",
      "    compactness (worst):                  0.027  1.058\n",
      "    concavity (worst):                    0.0    1.252\n",
      "    concave points (worst):               0.0    0.291\n",
      "    symmetry (worst):                     0.156  0.664\n",
      "    fractal dimension (worst):            0.055  0.208\n",
      "    ===================================== ====== ======\n",
      "\n",
      "    :Missing Attribute Values: None\n",
      "\n",
      "    :Class Distribution: 212 - Malignant, 357 - Benign\n",
      "\n",
      "    :Creator:  Dr. William H. Wolberg, W. Nick Street, Olvi L. Mangasarian\n",
      "\n",
      "    :Donor: Nick Street\n",
      "\n",
      "    :Date: November, 1995\n",
      "\n",
      "This is a copy of UCI ML Breast Cancer Wisconsin (Diagnostic) datasets.\n",
      "https://goo.gl/U2Uwz2\n",
      "\n",
      "Features are computed from a digitized image of a fine needle\n",
      "aspirate (FNA) of a breast mass.  They describe\n",
      "characteristics of the cell nuclei present in the image.\n",
      "\n",
      "Separating plane described above was obtained using\n",
      "Multisurface Method-Tree (MSM-T) [K. P. Bennett, \"Decision Tree\n",
      "Construction Via Linear Programming.\" Proceedings of the 4th\n",
      "Midwest Artificial Intelligence and Cognitive Science Society,\n",
      "pp. 97-101, 1992], a classification method which uses linear\n",
      "programming to construct a decision tree.  Relevant features\n",
      "were selected using an exhaustive search in the space of 1-4\n",
      "features and 1-3 separating planes.\n",
      "\n",
      "The actual linear program used to obtain the separating plane\n",
      "in the 3-dimensional space is that described in:\n",
      "[K. P. Bennett and O. L. Mangasarian: \"Robust Linear\n",
      "Programming Discrimination of Two Linearly Inseparable Sets\",\n",
      "Optimization Methods and Software 1, 1992, 23-34].\n",
      "\n",
      "This database is also available through the UW CS ftp server:\n",
      "\n",
      "ftp ftp.cs.wisc.edu\n",
      "cd math-prog/cpo-dataset/machine-learn/WDBC/\n",
      "\n",
      ".. topic:: References\n",
      "\n",
      "   - W.N. Street, W.H. Wolberg and O.L. Mangasarian. Nuclear feature extraction \n",
      "     for breast tumor diagnosis. IS&T/SPIE 1993 International Symposium on \n",
      "     Electronic Imaging: Science and Technology, volume 1905, pages 861-870,\n",
      "     San Jose, CA, 1993.\n",
      "   - O.L. Mangasarian, W.N. Street and W.H. Wolberg. Breast cancer diagnosis and \n",
      "     prognosis via linear programming. Operations Research, 43(4), pages 570-577, \n",
      "     July-August 1995.\n",
      "   - W.H. Wolberg, W.N. Street, and O.L. Mangasarian. Machine learning techniques\n",
      "     to diagnose breast cancer from fine-needle aspirates. Cancer Letters 77 (1994) \n",
      "     163-171.\n"
     ]
    }
   ],
   "source": [
    "#Descargamos el dataset\n",
    "data = load_breast_cancer()\n",
    "print(data.DESCR)"
   ]
  },
  {
   "cell_type": "code",
   "execution_count": 4,
   "metadata": {},
   "outputs": [],
   "source": [
    "#Estandarizamos los datos\n",
    "X = StandardScaler().fit_transform(data.data)\n",
    "Y = data.target"
   ]
  },
  {
   "cell_type": "code",
   "execution_count": 5,
   "metadata": {},
   "outputs": [],
   "source": [
    "#Número de carpetas\n",
    "K = 10\n",
    "skf = StratifiedKFold(n_splits = K, random_state = 0)"
   ]
  },
  {
   "cell_type": "code",
   "execution_count": 6,
   "metadata": {},
   "outputs": [],
   "source": [
    "max_clusters = 30\n",
    "beginRBF = 2\n",
    "#Array que contiene la media de la tasa de aciertos con cada XV\n",
    "hitsRBF = np.zeros(max_clusters - 1, dtype = 'float')\n",
    "\n",
    "#Para cada número de clusters realizamos XV\n",
    "for k in range (beginRBF, max_clusters + 1):\n",
    "    kmeans = KMeans(n_clusters = k, random_state = 0)\n",
    "    \n",
    "    for train_index, test_index in skf.split(X, Y):\n",
    "        #Separamos en train y test\n",
    "        X_train = X[train_index]\n",
    "        Y_train = Y[train_index]\n",
    "        \n",
    "        X_test = X[test_index]\n",
    "        Y_test = Y[test_index]\n",
    "        \n",
    "        #Entrenamos\n",
    "        kmeans.fit(X_train)\n",
    "        \n",
    "        modeArray = np.ones(k, dtype = 'int')\n",
    "        \n",
    "        #Hayamos la moda (clase) de cada cluster\n",
    "        for i in range(k):\n",
    "            modeArray[i] = mode(Y_train[np.argwhere(kmeans.labels_ == i)])[0]\n",
    "            \n",
    "        #Clase para cada instancia asignada en función de la moda de cada cluster\n",
    "        Y_predict = modeArray[kmeans.predict(X_test)]\n",
    "        hitsRBF[k - beginRBF] += accuracy_score(Y_test, Y_predict)\n",
    "        \n",
    "    hitsRBF[k - beginRBF] /= K"
   ]
  },
  {
   "cell_type": "markdown",
   "metadata": {},
   "source": [
    "Mediante el algoritmo aglomerativo kmeans obtenemos el número de clusters que mejor tasa de acierto obtiene para poder utilizar este en la RBF."
   ]
  },
  {
   "cell_type": "code",
   "execution_count": 7,
   "metadata": {},
   "outputs": [
    {
     "data": {
      "text/html": [
       "<style  type=\"text/css\" >\n",
       "</style><table id=\"T_2c81a870_a11f_11ea_9a0c_3f275694aba3\" ><thead>    <tr>        <th class=\"col_heading level0 col0\" >Nº clusters</th>        <th class=\"col_heading level0 col1\" >Tasa de acierto (XV-10P)</th>    </tr></thead><tbody>\n",
       "                <tr>\n",
       "                                <td id=\"T_2c81a870_a11f_11ea_9a0c_3f275694aba3row0_col0\" class=\"data row0 col0\" >2</td>\n",
       "                        <td id=\"T_2c81a870_a11f_11ea_9a0c_3f275694aba3row0_col1\" class=\"data row0 col1\" >0.912155</td>\n",
       "            </tr>\n",
       "            <tr>\n",
       "                                <td id=\"T_2c81a870_a11f_11ea_9a0c_3f275694aba3row1_col0\" class=\"data row1 col0\" >3</td>\n",
       "                        <td id=\"T_2c81a870_a11f_11ea_9a0c_3f275694aba3row1_col1\" class=\"data row1 col1\" >0.873465</td>\n",
       "            </tr>\n",
       "            <tr>\n",
       "                                <td id=\"T_2c81a870_a11f_11ea_9a0c_3f275694aba3row2_col0\" class=\"data row2 col0\" >4</td>\n",
       "                        <td id=\"T_2c81a870_a11f_11ea_9a0c_3f275694aba3row2_col1\" class=\"data row2 col1\" >0.884054</td>\n",
       "            </tr>\n",
       "            <tr>\n",
       "                                <td id=\"T_2c81a870_a11f_11ea_9a0c_3f275694aba3row3_col0\" class=\"data row3 col0\" >5</td>\n",
       "                        <td id=\"T_2c81a870_a11f_11ea_9a0c_3f275694aba3row3_col1\" class=\"data row3 col1\" >0.922650</td>\n",
       "            </tr>\n",
       "            <tr>\n",
       "                                <td id=\"T_2c81a870_a11f_11ea_9a0c_3f275694aba3row4_col0\" class=\"data row4 col0\" >6</td>\n",
       "                        <td id=\"T_2c81a870_a11f_11ea_9a0c_3f275694aba3row4_col1\" class=\"data row4 col1\" >0.924436</td>\n",
       "            </tr>\n",
       "            <tr>\n",
       "                                <td id=\"T_2c81a870_a11f_11ea_9a0c_3f275694aba3row5_col0\" class=\"data row5 col0\" >7</td>\n",
       "                        <td id=\"T_2c81a870_a11f_11ea_9a0c_3f275694aba3row5_col1\" class=\"data row5 col1\" >0.929699</td>\n",
       "            </tr>\n",
       "            <tr>\n",
       "                                <td id=\"T_2c81a870_a11f_11ea_9a0c_3f275694aba3row6_col0\" class=\"data row6 col0\" >8</td>\n",
       "                        <td id=\"T_2c81a870_a11f_11ea_9a0c_3f275694aba3row6_col1\" class=\"data row6 col1\" >0.920927</td>\n",
       "            </tr>\n",
       "            <tr>\n",
       "                                <td id=\"T_2c81a870_a11f_11ea_9a0c_3f275694aba3row7_col0\" class=\"data row7 col0\" >9</td>\n",
       "                        <td id=\"T_2c81a870_a11f_11ea_9a0c_3f275694aba3row7_col1\" class=\"data row7 col1\" >0.924405</td>\n",
       "            </tr>\n",
       "            <tr>\n",
       "                                <td id=\"T_2c81a870_a11f_11ea_9a0c_3f275694aba3row8_col0\" class=\"data row8 col0\" >10</td>\n",
       "                        <td id=\"T_2c81a870_a11f_11ea_9a0c_3f275694aba3row8_col1\" class=\"data row8 col1\" >0.910401</td>\n",
       "            </tr>\n",
       "            <tr>\n",
       "                                <td id=\"T_2c81a870_a11f_11ea_9a0c_3f275694aba3row9_col0\" class=\"data row9 col0\" >11</td>\n",
       "                        <td id=\"T_2c81a870_a11f_11ea_9a0c_3f275694aba3row9_col1\" class=\"data row9 col1\" >0.927976</td>\n",
       "            </tr>\n",
       "            <tr>\n",
       "                                <td id=\"T_2c81a870_a11f_11ea_9a0c_3f275694aba3row10_col0\" class=\"data row10 col0\" >12</td>\n",
       "                        <td id=\"T_2c81a870_a11f_11ea_9a0c_3f275694aba3row10_col1\" class=\"data row10 col1\" >0.908647</td>\n",
       "            </tr>\n",
       "            <tr>\n",
       "                                <td id=\"T_2c81a870_a11f_11ea_9a0c_3f275694aba3row11_col0\" class=\"data row11 col0\" >13</td>\n",
       "                        <td id=\"T_2c81a870_a11f_11ea_9a0c_3f275694aba3row11_col1\" class=\"data row11 col1\" >0.936717</td>\n",
       "            </tr>\n",
       "            <tr>\n",
       "                                <td id=\"T_2c81a870_a11f_11ea_9a0c_3f275694aba3row12_col0\" class=\"data row12 col0\" >14</td>\n",
       "                        <td id=\"T_2c81a870_a11f_11ea_9a0c_3f275694aba3row12_col1\" class=\"data row12 col1\" >0.919204</td>\n",
       "            </tr>\n",
       "            <tr>\n",
       "                                <td id=\"T_2c81a870_a11f_11ea_9a0c_3f275694aba3row13_col0\" class=\"data row13 col0\" >15</td>\n",
       "                        <td id=\"T_2c81a870_a11f_11ea_9a0c_3f275694aba3row13_col1\" class=\"data row13 col1\" >0.934994</td>\n",
       "            </tr>\n",
       "            <tr>\n",
       "                                <td id=\"T_2c81a870_a11f_11ea_9a0c_3f275694aba3row14_col0\" class=\"data row14 col0\" >16</td>\n",
       "                        <td id=\"T_2c81a870_a11f_11ea_9a0c_3f275694aba3row14_col1\" class=\"data row14 col1\" >0.942011</td>\n",
       "            </tr>\n",
       "            <tr>\n",
       "                                <td id=\"T_2c81a870_a11f_11ea_9a0c_3f275694aba3row15_col0\" class=\"data row15 col0\" >17</td>\n",
       "                        <td id=\"T_2c81a870_a11f_11ea_9a0c_3f275694aba3row15_col1\" class=\"data row15 col1\" >0.931454</td>\n",
       "            </tr>\n",
       "            <tr>\n",
       "                                <td id=\"T_2c81a870_a11f_11ea_9a0c_3f275694aba3row16_col0\" class=\"data row16 col0\" >18</td>\n",
       "                        <td id=\"T_2c81a870_a11f_11ea_9a0c_3f275694aba3row16_col1\" class=\"data row16 col1\" >0.945520</td>\n",
       "            </tr>\n",
       "            <tr>\n",
       "                                <td id=\"T_2c81a870_a11f_11ea_9a0c_3f275694aba3row17_col0\" class=\"data row17 col0\" >19</td>\n",
       "                        <td id=\"T_2c81a870_a11f_11ea_9a0c_3f275694aba3row17_col1\" class=\"data row17 col1\" >0.942011</td>\n",
       "            </tr>\n",
       "            <tr>\n",
       "                                <td id=\"T_2c81a870_a11f_11ea_9a0c_3f275694aba3row18_col0\" class=\"data row18 col0\" >20</td>\n",
       "                        <td id=\"T_2c81a870_a11f_11ea_9a0c_3f275694aba3row18_col1\" class=\"data row18 col1\" >0.933208</td>\n",
       "            </tr>\n",
       "            <tr>\n",
       "                                <td id=\"T_2c81a870_a11f_11ea_9a0c_3f275694aba3row19_col0\" class=\"data row19 col0\" >21</td>\n",
       "                        <td id=\"T_2c81a870_a11f_11ea_9a0c_3f275694aba3row19_col1\" class=\"data row19 col1\" >0.952600</td>\n",
       "            </tr>\n",
       "            <tr>\n",
       "                                <td id=\"T_2c81a870_a11f_11ea_9a0c_3f275694aba3row20_col0\" class=\"data row20 col0\" >22</td>\n",
       "                        <td id=\"T_2c81a870_a11f_11ea_9a0c_3f275694aba3row20_col1\" class=\"data row20 col1\" >0.950846</td>\n",
       "            </tr>\n",
       "            <tr>\n",
       "                                <td id=\"T_2c81a870_a11f_11ea_9a0c_3f275694aba3row21_col0\" class=\"data row21 col0\" >23</td>\n",
       "                        <td id=\"T_2c81a870_a11f_11ea_9a0c_3f275694aba3row21_col1\" class=\"data row21 col1\" >0.947306</td>\n",
       "            </tr>\n",
       "            <tr>\n",
       "                                <td id=\"T_2c81a870_a11f_11ea_9a0c_3f275694aba3row22_col0\" class=\"data row22 col0\" >24</td>\n",
       "                        <td id=\"T_2c81a870_a11f_11ea_9a0c_3f275694aba3row22_col1\" class=\"data row22 col1\" >0.942043</td>\n",
       "            </tr>\n",
       "            <tr>\n",
       "                                <td id=\"T_2c81a870_a11f_11ea_9a0c_3f275694aba3row23_col0\" class=\"data row23 col0\" >25</td>\n",
       "                        <td id=\"T_2c81a870_a11f_11ea_9a0c_3f275694aba3row23_col1\" class=\"data row23 col1\" >0.940320</td>\n",
       "            </tr>\n",
       "            <tr>\n",
       "                                <td id=\"T_2c81a870_a11f_11ea_9a0c_3f275694aba3row24_col0\" class=\"data row24 col0\" >26</td>\n",
       "                        <td id=\"T_2c81a870_a11f_11ea_9a0c_3f275694aba3row24_col1\" class=\"data row24 col1\" >0.943828</td>\n",
       "            </tr>\n",
       "            <tr>\n",
       "                                <td id=\"T_2c81a870_a11f_11ea_9a0c_3f275694aba3row25_col0\" class=\"data row25 col0\" >27</td>\n",
       "                        <td id=\"T_2c81a870_a11f_11ea_9a0c_3f275694aba3row25_col1\" class=\"data row25 col1\" >0.942074</td>\n",
       "            </tr>\n",
       "            <tr>\n",
       "                                <td id=\"T_2c81a870_a11f_11ea_9a0c_3f275694aba3row26_col0\" class=\"data row26 col0\" >28</td>\n",
       "                        <td id=\"T_2c81a870_a11f_11ea_9a0c_3f275694aba3row26_col1\" class=\"data row26 col1\" >0.940320</td>\n",
       "            </tr>\n",
       "            <tr>\n",
       "                                <td id=\"T_2c81a870_a11f_11ea_9a0c_3f275694aba3row27_col0\" class=\"data row27 col0\" >29</td>\n",
       "                        <td id=\"T_2c81a870_a11f_11ea_9a0c_3f275694aba3row27_col1\" class=\"data row27 col1\" >0.941980</td>\n",
       "            </tr>\n",
       "            <tr>\n",
       "                                <td id=\"T_2c81a870_a11f_11ea_9a0c_3f275694aba3row28_col0\" class=\"data row28 col0\" >30</td>\n",
       "                        <td id=\"T_2c81a870_a11f_11ea_9a0c_3f275694aba3row28_col1\" class=\"data row28 col1\" >0.938471</td>\n",
       "            </tr>\n",
       "    </tbody></table>"
      ],
      "text/plain": [
       "<pandas.io.formats.style.Styler at 0x7f2613ddbf90>"
      ]
     },
     "execution_count": 7,
     "metadata": {},
     "output_type": "execute_result"
    }
   ],
   "source": [
    "dfArray = np.arange(beginRBF, max_clusters + 1)\n",
    "dfArray = np.column_stack((dfArray, hitsRBF))\n",
    "\n",
    "df = pd.DataFrame(data = dfArray, columns = ['Nº clusters', 'Tasa de acierto (XV-10P)'])\n",
    "df = df.astype({'Nº clusters': int, 'Tasa de acierto (XV-10P)': float})\n",
    "df = df.style.hide_index()\n",
    "df"
   ]
  },
  {
   "cell_type": "code",
   "execution_count": 8,
   "metadata": {},
   "outputs": [
    {
     "name": "stdout",
     "output_type": "stream",
     "text": [
      "El mejor resultado (0.9526) se obtiene con 21 clusters, es decir, tendremos 21 neuronas en la capa oculta.\n"
     ]
    }
   ],
   "source": [
    "sizeHidden = np.argmax(hitsRBF) + beginRBF\n",
    "print('El mejor resultado (%.4f)' % hitsRBF[np.argmax(hitsRBF)],'se obtiene con %i' % sizeHidden,'clusters, es decir, tendremos %i neuronas en la capa oculta.' % sizeHidden)"
   ]
  },
  {
   "cell_type": "code",
   "execution_count": 9,
   "metadata": {},
   "outputs": [],
   "source": [
    "from sklearn.svm import SVC\n",
    "from sklearn.metrics.pairwise import euclidean_distances"
   ]
  },
  {
   "cell_type": "code",
   "execution_count": 10,
   "metadata": {},
   "outputs": [],
   "source": [
    "#Número de carpetas\n",
    "K = 10\n",
    "skf = StratifiedKFold(n_splits = K , random_state = 0)"
   ]
  },
  {
   "cell_type": "code",
   "execution_count": 11,
   "metadata": {},
   "outputs": [],
   "source": [
    "max_degree = 5\n",
    "beginSVM = 1\n",
    "#Array que contiene la media de la tasa de aciertos con cada XV\n",
    "hitsSVM = np.zeros(max_degree, dtype = 'float')\n",
    "\n",
    "#Para cada grado de polinomio realizamos XV\n",
    "for degree in range (beginSVM, max_degree + 1):\n",
    "\n",
    "    for train_index, test_index in skf.split(X, Y):\n",
    "        #Separamos en train y test\n",
    "        X_train = X[train_index]\n",
    "        Y_train = Y[train_index]\n",
    "        \n",
    "        X_test = X[test_index]\n",
    "        Y_test = Y[test_index]\n",
    "        \n",
    "        #Cálculo de los parámetros de la RBF\n",
    "        kmeans = KMeans(n_clusters = sizeHidden).fit(X_train)\n",
    "        \n",
    "        centers = kmeans.cluster_centers_\n",
    "\n",
    "        distances = euclidean_distances(centers)\n",
    "\n",
    "        sigma = np.sum(distances, axis = 0) / (centers.shape[0]-1)\n",
    "\n",
    "        \n",
    "        X_SVM_train = np.zeros((X_train.shape[0], centers.shape[0]), dtype = 'float')\n",
    "        \n",
    "        #Cálculamos los valores de la RBF para los datos de entrenamiento\n",
    "        for i in range(X_train.shape[0]):\n",
    "            for j in range(centers.shape[0]):\n",
    "                X_SVM_train[i][j] = np.exp(-np.sum((X_train[i] - centers[j])**2)/(2.0 * (sigma[j]**2)))\n",
    "        \n",
    "        \n",
    "        X_SVM_test = np.zeros((X_test.shape[0], centers.shape[0]), dtype = 'float')\n",
    "        \n",
    "        #Cálculamos los valores de la RBF para los datos de test\n",
    "        for i in range(X_test.shape[0]):\n",
    "            for j in range(centers.shape[0]):\n",
    "                X_SVM_test[i][j] = np.exp(-np.sum((X_test[i] - centers[j])**2)/(2.0 * (sigma[j]**2)))\n",
    "        \n",
    "        \n",
    "        #Creamos el clasificador\n",
    "        svc = SVC(kernel = 'poly',degree = degree, random_state = 0)\n",
    "        #Entrenamos el clasificador\n",
    "        svc.fit(X_SVM_train,Y_train)        \n",
    "\n",
    "        hitsSVM[degree - beginSVM] += svc.score(X_SVM_test,Y_test)\n",
    "        \n",
    "    hitsSVM[degree - beginSVM] /= K"
   ]
  },
  {
   "cell_type": "markdown",
   "metadata": {},
   "source": [
    "Entrenamos y testeamos el clasificador que hemos creado. Los conjuntos de train y test son generados con la RBF y realizamos XV con cada valor que puede tomar el grado del polinomio para ver cual da mejores resultados."
   ]
  },
  {
   "cell_type": "code",
   "execution_count": 12,
   "metadata": {},
   "outputs": [
    {
     "data": {
      "text/html": [
       "<style  type=\"text/css\" >\n",
       "</style><table id=\"T_382d6ea2_a11f_11ea_9a0c_3f275694aba3\" ><thead>    <tr>        <th class=\"col_heading level0 col0\" >Grado</th>        <th class=\"col_heading level0 col1\" >Tasa de acierto (XV-10P)</th>    </tr></thead><tbody>\n",
       "                <tr>\n",
       "                                <td id=\"T_382d6ea2_a11f_11ea_9a0c_3f275694aba3row0_col0\" class=\"data row0 col0\" >1</td>\n",
       "                        <td id=\"T_382d6ea2_a11f_11ea_9a0c_3f275694aba3row0_col1\" class=\"data row0 col1\" >0.961341</td>\n",
       "            </tr>\n",
       "            <tr>\n",
       "                                <td id=\"T_382d6ea2_a11f_11ea_9a0c_3f275694aba3row1_col0\" class=\"data row1 col0\" >2</td>\n",
       "                        <td id=\"T_382d6ea2_a11f_11ea_9a0c_3f275694aba3row1_col1\" class=\"data row1 col1\" >0.963095</td>\n",
       "            </tr>\n",
       "            <tr>\n",
       "                                <td id=\"T_382d6ea2_a11f_11ea_9a0c_3f275694aba3row2_col0\" class=\"data row2 col0\" >3</td>\n",
       "                        <td id=\"T_382d6ea2_a11f_11ea_9a0c_3f275694aba3row2_col1\" class=\"data row2 col1\" >0.968358</td>\n",
       "            </tr>\n",
       "            <tr>\n",
       "                                <td id=\"T_382d6ea2_a11f_11ea_9a0c_3f275694aba3row3_col0\" class=\"data row3 col0\" >4</td>\n",
       "                        <td id=\"T_382d6ea2_a11f_11ea_9a0c_3f275694aba3row3_col1\" class=\"data row3 col1\" >0.975407</td>\n",
       "            </tr>\n",
       "            <tr>\n",
       "                                <td id=\"T_382d6ea2_a11f_11ea_9a0c_3f275694aba3row4_col0\" class=\"data row4 col0\" >5</td>\n",
       "                        <td id=\"T_382d6ea2_a11f_11ea_9a0c_3f275694aba3row4_col1\" class=\"data row4 col1\" >0.957801</td>\n",
       "            </tr>\n",
       "    </tbody></table>"
      ],
      "text/plain": [
       "<pandas.io.formats.style.Styler at 0x7f26107b0e50>"
      ]
     },
     "execution_count": 12,
     "metadata": {},
     "output_type": "execute_result"
    }
   ],
   "source": [
    "dfArray = np.arange(beginSVM, max_degree + 1)\n",
    "dfArray = np.column_stack((dfArray, hitsSVM))\n",
    "\n",
    "df = pd.DataFrame(data = dfArray, columns = ['Grado', 'Tasa de acierto (XV-10P)'])\n",
    "df = df.astype({'Grado': int, 'Tasa de acierto (XV-10P)': float})\n",
    "df = df.style.hide_index()\n",
    "df"
   ]
  },
  {
   "cell_type": "code",
   "execution_count": 13,
   "metadata": {},
   "outputs": [
    {
     "name": "stdout",
     "output_type": "stream",
     "text": [
      "El mejor resultado (0.9754) se obtiene con grado 4 para el polinomio del núcleo.\n"
     ]
    }
   ],
   "source": [
    "bestDegree = np.argmax(hitsSVM) + beginSVM\n",
    "print('El mejor resultado (%.4f)' % hitsSVM[np.argmax(hitsSVM)], 'se obtiene con grado %i para el polinomio del núcleo.' % bestDegree)"
   ]
  },
  {
   "cell_type": "code",
   "execution_count": null,
   "metadata": {},
   "outputs": [],
   "source": []
  }
 ],
 "metadata": {
  "kernelspec": {
   "display_name": "Python 3",
   "language": "python",
   "name": "python3"
  },
  "language_info": {
   "codemirror_mode": {
    "name": "ipython",
    "version": 3
   },
   "file_extension": ".py",
   "mimetype": "text/x-python",
   "name": "python",
   "nbconvert_exporter": "python",
   "pygments_lexer": "ipython3",
   "version": "3.7.6"
  }
 },
 "nbformat": 4,
 "nbformat_minor": 4
}
