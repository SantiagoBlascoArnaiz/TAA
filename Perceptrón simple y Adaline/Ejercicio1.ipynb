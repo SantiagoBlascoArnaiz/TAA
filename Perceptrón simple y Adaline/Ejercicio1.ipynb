{
 "cells": [
  {
   "cell_type": "markdown",
   "metadata": {},
   "source": [
    "# Práctica 9\n",
    "# Perceptrón simple y Adaline"
   ]
  },
  {
   "cell_type": "markdown",
   "metadata": {},
   "source": [
    "# Ejercicio 1"
   ]
  },
  {
   "cell_type": "markdown",
   "metadata": {},
   "source": [
    "## Santiago Blasco Arnaiz"
   ]
  },
  {
   "cell_type": "code",
   "execution_count": 1,
   "metadata": {},
   "outputs": [],
   "source": [
    "from sklearn.datasets import make_blobs\n",
    "import numpy as np\n",
    "import pandas as pd\n",
    "from sklearn.preprocessing import MinMaxScaler\n",
    "import matplotlib.pyplot as plt"
   ]
  },
  {
   "cell_type": "code",
   "execution_count": 2,
   "metadata": {},
   "outputs": [],
   "source": [
    "#Tamaño de cada grupo\n",
    "size = 1000\n",
    "#Semilla para la generación aleatoria\n",
    "seed = 0"
   ]
  },
  {
   "cell_type": "markdown",
   "metadata": {},
   "source": [
    "### Generación del dataset"
   ]
  },
  {
   "cell_type": "code",
   "execution_count": 3,
   "metadata": {},
   "outputs": [],
   "source": [
    "#Generamos un único conjunto de datos de 2000 muestras con 2 centros y dos atributos.\n",
    "#Esto generará 1000 muestras con dos atributos alrededor de un centro y 1000 en el otro.\n",
    "#Mediante el parámetro center_box ajustamos el rango en el que se generan las muestras para que estas\n",
    "#sean directamente separables de forma lineal.\n",
    "X,Y = make_blobs(n_samples=size*2, centers=2, n_features=2, random_state=seed,  center_box=(-20.0, 20.0))"
   ]
  },
  {
   "cell_type": "code",
   "execution_count": 4,
   "metadata": {},
   "outputs": [
    {
     "data": {
      "text/plain": [
       "((2000, 2), (2000,))"
      ]
     },
     "execution_count": 4,
     "metadata": {},
     "output_type": "execute_result"
    }
   ],
   "source": [
    "X.shape,Y.shape"
   ]
  },
  {
   "cell_type": "code",
   "execution_count": 5,
   "metadata": {},
   "outputs": [
    {
     "data": {
      "text/plain": [
       "(array([[4.80231957, 2.35971553],\n",
       "        [2.56446735, 7.26607793],\n",
       "        [5.17575975, 2.15248098],\n",
       "        ...,\n",
       "        [1.78928521, 8.52111937],\n",
       "        [1.66353495, 6.60893518],\n",
       "        [0.31411653, 6.83118604]]),\n",
       " array([1, 0, 1, ..., 0, 0, 0]))"
      ]
     },
     "execution_count": 5,
     "metadata": {},
     "output_type": "execute_result"
    }
   ],
   "source": [
    "X,Y"
   ]
  },
  {
   "cell_type": "markdown",
   "metadata": {},
   "source": [
    "X = np.array([[1,1],\n",
    "             [2,1],\n",
    "             [2,2],\n",
    "             [1,3],\n",
    "             [-1,1],\n",
    "             [0,2],\n",
    "             [-1,3]])\n",
    "Y = np.array([1,1,1,1,0,0,0])"
   ]
  },
  {
   "cell_type": "code",
   "execution_count": 6,
   "metadata": {},
   "outputs": [
    {
     "data": {
      "text/html": [
       "<div>\n",
       "<style scoped>\n",
       "    .dataframe tbody tr th:only-of-type {\n",
       "        vertical-align: middle;\n",
       "    }\n",
       "\n",
       "    .dataframe tbody tr th {\n",
       "        vertical-align: top;\n",
       "    }\n",
       "\n",
       "    .dataframe thead th {\n",
       "        text-align: right;\n",
       "    }\n",
       "</style>\n",
       "<table border=\"1\" class=\"dataframe\">\n",
       "  <thead>\n",
       "    <tr style=\"text-align: right;\">\n",
       "      <th></th>\n",
       "      <th>x1</th>\n",
       "      <th>x2</th>\n",
       "      <th>Grupo</th>\n",
       "    </tr>\n",
       "  </thead>\n",
       "  <tbody>\n",
       "    <tr>\n",
       "      <th>0</th>\n",
       "      <td>4.802320</td>\n",
       "      <td>2.359716</td>\n",
       "      <td>1</td>\n",
       "    </tr>\n",
       "    <tr>\n",
       "      <th>1</th>\n",
       "      <td>2.564467</td>\n",
       "      <td>7.266078</td>\n",
       "      <td>0</td>\n",
       "    </tr>\n",
       "    <tr>\n",
       "      <th>2</th>\n",
       "      <td>5.175760</td>\n",
       "      <td>2.152481</td>\n",
       "      <td>1</td>\n",
       "    </tr>\n",
       "    <tr>\n",
       "      <th>3</th>\n",
       "      <td>3.177411</td>\n",
       "      <td>8.672431</td>\n",
       "      <td>0</td>\n",
       "    </tr>\n",
       "    <tr>\n",
       "      <th>4</th>\n",
       "      <td>0.909411</td>\n",
       "      <td>7.750496</td>\n",
       "      <td>0</td>\n",
       "    </tr>\n",
       "    <tr>\n",
       "      <th>...</th>\n",
       "      <td>...</td>\n",
       "      <td>...</td>\n",
       "      <td>...</td>\n",
       "    </tr>\n",
       "    <tr>\n",
       "      <th>1995</th>\n",
       "      <td>1.135047</td>\n",
       "      <td>7.206227</td>\n",
       "      <td>0</td>\n",
       "    </tr>\n",
       "    <tr>\n",
       "      <th>1996</th>\n",
       "      <td>3.323502</td>\n",
       "      <td>1.210556</td>\n",
       "      <td>1</td>\n",
       "    </tr>\n",
       "    <tr>\n",
       "      <th>1997</th>\n",
       "      <td>1.789285</td>\n",
       "      <td>8.521119</td>\n",
       "      <td>0</td>\n",
       "    </tr>\n",
       "    <tr>\n",
       "      <th>1998</th>\n",
       "      <td>1.663535</td>\n",
       "      <td>6.608935</td>\n",
       "      <td>0</td>\n",
       "    </tr>\n",
       "    <tr>\n",
       "      <th>1999</th>\n",
       "      <td>0.314117</td>\n",
       "      <td>6.831186</td>\n",
       "      <td>0</td>\n",
       "    </tr>\n",
       "  </tbody>\n",
       "</table>\n",
       "<p>2000 rows × 3 columns</p>\n",
       "</div>"
      ],
      "text/plain": [
       "            x1        x2  Grupo\n",
       "0     4.802320  2.359716      1\n",
       "1     2.564467  7.266078      0\n",
       "2     5.175760  2.152481      1\n",
       "3     3.177411  8.672431      0\n",
       "4     0.909411  7.750496      0\n",
       "...        ...       ...    ...\n",
       "1995  1.135047  7.206227      0\n",
       "1996  3.323502  1.210556      1\n",
       "1997  1.789285  8.521119      0\n",
       "1998  1.663535  6.608935      0\n",
       "1999  0.314117  6.831186      0\n",
       "\n",
       "[2000 rows x 3 columns]"
      ]
     },
     "execution_count": 6,
     "metadata": {},
     "output_type": "execute_result"
    }
   ],
   "source": [
    "dataRaw = np.insert(X,2,Y,axis=1)\n",
    "\n",
    "data = pd.DataFrame(data=dataRaw, columns=[\"x1\", \"x2\",\"Grupo\"]).astype({\"Grupo\": int})\n",
    "data"
   ]
  },
  {
   "cell_type": "markdown",
   "metadata": {},
   "source": [
    "El dataset está compuesto por 2000 muestras, cada muestra tiene dos atributos, x1 y x2, son atributos numéricos continuos. Interpretaremos estos atributos como coordenadas de puntos en un espacio de dos dimensiones. Cada muestra pertenece a una clase (llamada grupo), es una clase con dos posibles valores de números enteros, 0 o 1. 1000 muestras pertenecen a una clase y 1000 a la otra."
   ]
  },
  {
   "cell_type": "markdown",
   "metadata": {},
   "source": [
    "### Normalización de los datos"
   ]
  },
  {
   "cell_type": "code",
   "execution_count": 7,
   "metadata": {},
   "outputs": [
    {
     "data": {
      "text/plain": [
       "(array([[0.65269348, 0.30520811],\n",
       "        [0.4027733 , 0.6836715 ],\n",
       "        [0.69439875, 0.28922261],\n",
       "        ...,\n",
       "        [0.31620205, 0.78048196],\n",
       "        [0.30215844, 0.6329813 ],\n",
       "        [0.1514573 , 0.65012513]]),\n",
       " array([1, 0, 1, ..., 0, 0, 0]))"
      ]
     },
     "execution_count": 7,
     "metadata": {},
     "output_type": "execute_result"
    }
   ],
   "source": [
    "#Normalizamos los datos para trabajar con ellos\n",
    "X = MinMaxScaler().fit_transform(data[['x1', 'x2']])\n",
    "#Extraemos los valores de la clase para cada muestra\n",
    "g = data['Grupo'].values\n",
    "X,g"
   ]
  },
  {
   "cell_type": "code",
   "execution_count": 8,
   "metadata": {},
   "outputs": [],
   "source": [
    "#Índices de las muestras para los distintos valores de la clase utilizados para represetar\n",
    "g0 = np.argwhere(g==0)\n",
    "g1 = np.argwhere(g==1)"
   ]
  },
  {
   "cell_type": "markdown",
   "metadata": {},
   "source": [
    "### Gráfico de puntos para representar las muestras pertenecientes a las dos clases"
   ]
  },
  {
   "cell_type": "code",
   "execution_count": 9,
   "metadata": {},
   "outputs": [
    {
     "data": {
      "image/png": "[encoded data removed]",
      "text/plain": [
       "<Figure size 432x288 with 1 Axes>"
      ]
     },
     "metadata": {
      "needs_background": "light"
     },
     "output_type": "display_data"
    }
   ],
   "source": [
    "plt.scatter(X[g0,0], X[g0,1], c='blue',marker='.',s=15)\n",
    "plt.scatter(X[g1,0], X[g1,1], c='green',marker='.',s=15)\n",
    "plt.xlabel('x1')\n",
    "plt.ylabel('x2')\n",
    "plt.axis([-0.1, 1.1, -0.1, 1.1])\n",
    "plt.grid()\n",
    "plt.show()"
   ]
  },
  {
   "cell_type": "markdown",
   "metadata": {},
   "source": [
    "### Perceptrón simple"
   ]
  },
  {
   "cell_type": "code",
   "execution_count": 10,
   "metadata": {},
   "outputs": [],
   "source": [
    "#Implementación de una red neuronal de perceptrón simple\n",
    "class simple_perceptron():\n",
    "    \n",
    "    def __init__(self, n_inputs = 2, n_outputs = 1, W = None, b = None):\n",
    "        \n",
    "        #Tamaño de la capa de entrada\n",
    "        self.n_inputs = n_inputs\n",
    "        #Tamaño de la capa de salida\n",
    "        self.n_outputs = n_outputs\n",
    "        #Pesos\n",
    "        self.W = W\n",
    "        #Umbral\n",
    "        self.b = b\n",
    "        \n",
    "        #Se encarga de inicializar los pesos si no son aportados como parámetro\n",
    "        if self.W is None:\n",
    "            self.W = np.random.rand(self.n_outputs, self.n_inputs) - 0.5\n",
    "        \n",
    "        #Se encarga de inicializar el umbral si no es aportado como parámetro\n",
    "        if self.b is None:\n",
    "            self.b = np.random.rand(self.n_outputs, 1) - 0.5\n",
    "        \n",
    "    #Devuelve la predicción realizada por la red neuronal en base a los datos pasados como parámetros\n",
    "    def predict(self, x):\n",
    "        return np.sign(self.W @ x.T + self.b).T.astype(int)\n",
    "    \n",
    "    #Entrena la red neuronal con los datos pasados como parámetros\n",
    "    def train(self, X, D):\n",
    "        \n",
    "        #Cambiamos los valores de 0 de la clase por -1 para poder trabajar con ellos\n",
    "        for i in range(D.size):\n",
    "            if (D[i] == 0):\n",
    "                D[i] = -1\n",
    "        \n",
    "        #Comprueba la coincidencia actual de la predicción con la salida deseada\n",
    "        #Si no coinciden todas continua con el procedimiento\n",
    "        if np.sum(self.predict(X) == D) != D.shape[0]:\n",
    "            cont = True\n",
    "            p = 0\n",
    "            \n",
    "            while cont:\n",
    "                #Indice para recorrer cada muestra\n",
    "                v = p % X.shape[0]\n",
    "                #Muestra\n",
    "                x = X[v].reshape(1, -1)\n",
    "                #Imagen obtenida con la muestra\n",
    "                y = self.predict(x)\n",
    "                #Salida deseada\n",
    "                d = D[v].reshape(1, -1)\n",
    "                \n",
    "                #Comparamos la salida deseada y la predicha\n",
    "                if y != d:\n",
    "                    #Modificamos los pesos y el umbral\n",
    "                    self.W += d * x\n",
    "                    self.b += d\n",
    "                    \n",
    "                    #Volvemos a comprobar la coincidencia entre la predicción y la salida desada para determinar\n",
    "                    #si se detiene el algoritmo\n",
    "                    if np.sum(self.predict(X) == D) == D.shape[0]:\n",
    "                        cont = False\n",
    "\n",
    "                p += 1\n",
    "        return\n",
    "    \n",
    "    #Devuelve los pesos y el umbral\n",
    "    def get_params(self):\n",
    "        return self.W, self.b"
   ]
  },
  {
   "cell_type": "code",
   "execution_count": 11,
   "metadata": {},
   "outputs": [],
   "source": [
    "#Creamos el perceptron simple\n",
    "ps = simple_perceptron(n_inputs = 2, n_outputs = 1)"
   ]
  },
  {
   "cell_type": "code",
   "execution_count": 12,
   "metadata": {},
   "outputs": [],
   "source": [
    "#Lo entrenamos\n",
    "ps.train(X,g.reshape(-1,1))"
   ]
  },
  {
   "cell_type": "code",
   "execution_count": 13,
   "metadata": {},
   "outputs": [
    {
     "data": {
      "text/plain": [
       "(array([[ 1.37635983, -3.45281747]]), array([[1.11018904]]))"
      ]
     },
     "execution_count": 13,
     "metadata": {},
     "output_type": "execute_result"
    }
   ],
   "source": [
    "#Obtenemos los valores de los pesos y el umbral para poder representar la recta a partir de ellos\n",
    "weights, bias = ps.get_params()\n",
    "weights,bias"
   ]
  },
  {
   "cell_type": "markdown",
   "metadata": {},
   "source": [
    "### Separación lineal de ambos conjuntos generada por el perceptrón simple"
   ]
  },
  {
   "cell_type": "code",
   "execution_count": 14,
   "metadata": {},
   "outputs": [
    {
     "data": {
      "image/png": "[encoded data removed]",
      "text/plain": [
       "<Figure size 432x288 with 1 Axes>"
      ]
     },
     "metadata": {
      "needs_background": "light"
     },
     "output_type": "display_data"
    }
   ],
   "source": [
    "plt.scatter(X[g0,0], X[g0,1], c='blue',marker='.',s=15)\n",
    "plt.scatter(X[g1,0], X[g1,1], c='green',marker='.',s=15)\n",
    "plt.xlabel('x1')\n",
    "plt.ylabel('x2')\n",
    "plt.axis([-0.1, 1.1, -0.1, 1.1])\n",
    "plt.grid()\n",
    "\n",
    "x1 = np.array([0.0, 1.0])\n",
    "x2 = np.array([-bias[0,0]/weights[0,1],(-bias[0,0] - weights[0,0])/weights[0,1]])\n",
    "\n",
    "plt.plot(x1, x2, c='red')\n",
    "\n",
    "plt.show()"
   ]
  }
 ],
 "metadata": {
  "kernelspec": {
   "display_name": "Python 3",
   "language": "python",
   "name": "python3"
  },
  "language_info": {
   "codemirror_mode": {
    "name": "ipython",
    "version": 3
   },
   "file_extension": ".py",
   "mimetype": "text/x-python",
   "name": "python",
   "nbconvert_exporter": "python",
   "pygments_lexer": "ipython3",
   "version": "3.7.6"
  }
 },
 "nbformat": 4,
 "nbformat_minor": 4
}
