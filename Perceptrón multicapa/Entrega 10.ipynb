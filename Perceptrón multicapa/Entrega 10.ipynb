{
 "cells": [
  {
   "cell_type": "markdown",
   "metadata": {},
   "source": [
    "# Práctica 10\n",
    "\n",
    "# Perceptrón multicapa"
   ]
  },
  {
   "cell_type": "markdown",
   "metadata": {},
   "source": [
    "## Santiago Blasco Arnaiz"
   ]
  },
  {
   "cell_type": "code",
   "execution_count": 1,
   "metadata": {},
   "outputs": [],
   "source": [
    "import pandas as pd\n",
    "import numpy as np\n",
    "from sklearn.datasets import fetch_openml\n",
    "from sklearn.model_selection import KFold\n",
    "from sklearn.preprocessing import MinMaxScaler\n",
    "from sklearn.neural_network import MLPClassifier\n",
    "import time"
   ]
  },
  {
   "cell_type": "code",
   "execution_count": 2,
   "metadata": {},
   "outputs": [],
   "source": [
    "XRaw, Y = fetch_openml(name='thyroid-allhypo', return_X_y = True)"
   ]
  },
  {
   "cell_type": "code",
   "execution_count": 3,
   "metadata": {},
   "outputs": [],
   "source": [
    "#Creamos el escalador y escalamos los datos\n",
    "scaler = MinMaxScaler()\n",
    "X = scaler.fit_transform(XRaw)"
   ]
  },
  {
   "cell_type": "code",
   "execution_count": 4,
   "metadata": {},
   "outputs": [
    {
     "data": {
      "text/plain": [
       "((2800, 26), (2800,))"
      ]
     },
     "execution_count": 4,
     "metadata": {},
     "output_type": "execute_result"
    }
   ],
   "source": [
    "X.shape, Y.shape"
   ]
  },
  {
   "cell_type": "code",
   "execution_count": 5,
   "metadata": {},
   "outputs": [
    {
     "data": {
      "text/plain": [
       "array([ 10,  20,  30,  40,  50,  60,  70,  80,  90, 100])"
      ]
     },
     "execution_count": 5,
     "metadata": {},
     "output_type": "execute_result"
    }
   ],
   "source": [
    "start = 10\n",
    "stop = 100\n",
    "step = 10\n",
    "\n",
    "#Tamaños de la capa oculta\n",
    "sizes = np.arange(start,stop + step, step)\n",
    "sizes"
   ]
  },
  {
   "cell_type": "code",
   "execution_count": 6,
   "metadata": {},
   "outputs": [],
   "source": [
    "#Creamos un dataframe para introducir toda la información y mostrarla\n",
    "results = pd.DataFrame(columns = ['Tamaño', 'K', 'Entrena','Verifica','T. Ejecución'])\n",
    "\n",
    "index = 0\n",
    "\n",
    "for size in sizes:\n",
    "\n",
    "    #Número de carpetas\n",
    "    K = 10\n",
    "\n",
    "    #Generamos las particiones para cross validation\n",
    "    skf = KFold(n_splits = K)\n",
    "\n",
    "    #Contador para variar la carpeta\n",
    "    k = 0\n",
    "\n",
    "    #Iterador de las carpetas de Cross Validation\n",
    "    for train_index, test_index in skf.split(X,Y):\n",
    "        \n",
    "        X_test, Y_test = X[test_index], Y[test_index]\n",
    "        X_train, Y_train = X[train_index], Y[train_index]\n",
    "        \n",
    "        #Tomamos la medida de tiempo\n",
    "        time0 = time.time()\n",
    "        \n",
    "        #Creamos el clasificador\n",
    "        clf = MLPClassifier(hidden_layer_sizes = size, max_iter = 2000)\n",
    "        \n",
    "        #Entrenamos\n",
    "        clf.fit(X_train, Y_train)\n",
    "        \n",
    "        trainScore = clf.score(X_train, Y_train)\n",
    "        testScore = clf.score(X_test, Y_test)\n",
    "        \n",
    "        timeExec = time.time() - time0\n",
    "        \n",
    "        #Añadimos los datos obtenidos al dataframe de la solución\n",
    "        results.loc[index,:] = [size, k, trainScore, testScore, timeExec]\n",
    "\n",
    "        k += 1\n",
    "        index += 1"
   ]
  },
  {
   "cell_type": "code",
   "execution_count": 7,
   "metadata": {},
   "outputs": [],
   "source": [
    "resultsArray = np.asarray(results)"
   ]
  },
  {
   "cell_type": "code",
   "execution_count": 8,
   "metadata": {},
   "outputs": [
    {
     "name": "stdout",
     "output_type": "stream",
     "text": [
      "Tamaño de la capa oculta:  10 \n",
      "\n",
      "Fold \tEntrena \tVerifica \tT. Ejecución\n",
      "0  \t 0.7298  \t 0.6929  \t 2.6264\n",
      "1  \t 0.7262  \t 0.6964  \t 2.4329\n",
      "2  \t 0.7266  \t 0.6679  \t 2.2251\n",
      "3  \t 0.7179  \t 0.7179  \t 2.2420\n",
      "4  \t 0.7254  \t 0.6750  \t 1.9780\n",
      "5  \t 0.7139  \t 0.7429  \t 1.9411\n",
      "6  \t 0.7179  \t 0.7393  \t 2.5861\n",
      "7  \t 0.7234  \t 0.7000  \t 2.2143\n",
      "8  \t 0.7202  \t 0.7214  \t 2.2248\n",
      "9  \t 0.7183  \t 0.7750  \t 1.9755\n",
      "\n",
      "\n",
      "MEDIA (Verifica) = 0.7129\n",
      "MEDIA (Entrena) = 0.7219\n",
      "Tiempo total (seg) = 22.4462\n",
      "\n",
      "\n",
      "Tamaño de la capa oculta:  20 \n",
      "\n",
      "Fold \tEntrena \tVerifica \tT. Ejecución\n",
      "0  \t 0.7290  \t 0.7071  \t 2.1005\n",
      "1  \t 0.7302  \t 0.7000  \t 2.4278\n",
      "2  \t 0.7294  \t 0.6714  \t 2.2927\n",
      "3  \t 0.7254  \t 0.7214  \t 2.4749\n",
      "4  \t 0.7266  \t 0.6750  \t 2.0024\n",
      "5  \t 0.7151  \t 0.7464  \t 1.6837\n",
      "6  \t 0.7206  \t 0.7500  \t 2.0233\n",
      "7  \t 0.7313  \t 0.6893  \t 1.4689\n",
      "8  \t 0.7270  \t 0.7143  \t 2.1304\n",
      "9  \t 0.7159  \t 0.7750  \t 1.8211\n",
      "\n",
      "\n",
      "MEDIA (Verifica) = 0.7150\n",
      "MEDIA (Entrena) = 0.7250\n",
      "Tiempo total (seg) = 20.4257\n",
      "\n",
      "\n",
      "Tamaño de la capa oculta:  30 \n",
      "\n",
      "Fold \tEntrena \tVerifica \tT. Ejecución\n",
      "0  \t 0.7317  \t 0.6964  \t 2.4503\n",
      "1  \t 0.7365  \t 0.6893  \t 2.8303\n",
      "2  \t 0.7310  \t 0.6643  \t 2.0048\n",
      "3  \t 0.7262  \t 0.7214  \t 2.1048\n",
      "4  \t 0.7353  \t 0.6750  \t 2.3737\n",
      "5  \t 0.7238  \t 0.7464  \t 2.4107\n",
      "6  \t 0.7274  \t 0.7393  \t 2.5357\n",
      "7  \t 0.7313  \t 0.6857  \t 1.8061\n",
      "8  \t 0.7222  \t 0.7107  \t 1.9148\n",
      "9  \t 0.7198  \t 0.7857  \t 1.5750\n",
      "\n",
      "\n",
      "MEDIA (Verifica) = 0.7114\n",
      "MEDIA (Entrena) = 0.7285\n",
      "Tiempo total (seg) = 22.0061\n",
      "\n",
      "\n",
      "Tamaño de la capa oculta:  40 \n",
      "\n",
      "Fold \tEntrena \tVerifica \tT. Ejecución\n",
      "0  \t 0.7258  \t 0.7179  \t 2.1014\n",
      "1  \t 0.7345  \t 0.6821  \t 2.6082\n",
      "2  \t 0.7341  \t 0.6679  \t 2.4937\n",
      "3  \t 0.7222  \t 0.7286  \t 1.9680\n",
      "4  \t 0.7337  \t 0.6750  \t 3.0618\n",
      "5  \t 0.7206  \t 0.7500  \t 1.9673\n",
      "6  \t 0.7238  \t 0.7250  \t 2.8217\n",
      "7  \t 0.7341  \t 0.6643  \t 1.3710\n",
      "8  \t 0.7238  \t 0.7107  \t 1.4466\n",
      "9  \t 0.7210  \t 0.7786  \t 2.1019\n",
      "\n",
      "\n",
      "MEDIA (Verifica) = 0.7100\n",
      "MEDIA (Entrena) = 0.7274\n",
      "Tiempo total (seg) = 21.9417\n",
      "\n",
      "\n",
      "Tamaño de la capa oculta:  50 \n",
      "\n",
      "Fold \tEntrena \tVerifica \tT. Ejecución\n",
      "0  \t 0.7341  \t 0.7071  \t 1.9536\n",
      "1  \t 0.7278  \t 0.6821  \t 1.5846\n",
      "2  \t 0.7357  \t 0.6643  \t 1.7210\n",
      "3  \t 0.7274  \t 0.7214  \t 1.5800\n",
      "4  \t 0.7369  \t 0.6714  \t 2.7457\n",
      "5  \t 0.7242  \t 0.7571  \t 2.1479\n",
      "6  \t 0.7282  \t 0.7321  \t 3.1233\n",
      "7  \t 0.7365  \t 0.6929  \t 1.8559\n",
      "8  \t 0.7290  \t 0.7143  \t 1.4800\n",
      "9  \t 0.7246  \t 0.7643  \t 2.7757\n",
      "\n",
      "\n",
      "MEDIA (Verifica) = 0.7107\n",
      "MEDIA (Entrena) = 0.7304\n",
      "Tiempo total (seg) = 20.9677\n",
      "\n",
      "\n",
      "Tamaño de la capa oculta:  60 \n",
      "\n",
      "Fold \tEntrena \tVerifica \tT. Ejecución\n",
      "0  \t 0.7361  \t 0.7000  \t 2.2821\n",
      "1  \t 0.7313  \t 0.6964  \t 1.2904\n",
      "2  \t 0.7365  \t 0.6786  \t 2.0079\n",
      "3  \t 0.7325  \t 0.7250  \t 2.5635\n",
      "4  \t 0.7440  \t 0.6679  \t 3.4495\n",
      "5  \t 0.7266  \t 0.7429  \t 2.1383\n",
      "6  \t 0.7274  \t 0.7429  \t 2.5327\n",
      "7  \t 0.7381  \t 0.6750  \t 2.9606\n",
      "8  \t 0.7290  \t 0.7179  \t 2.2982\n",
      "9  \t 0.7262  \t 0.7714  \t 2.7363\n",
      "\n",
      "\n",
      "MEDIA (Verifica) = 0.7118\n",
      "MEDIA (Entrena) = 0.7328\n",
      "Tiempo total (seg) = 24.2596\n",
      "\n",
      "\n",
      "Tamaño de la capa oculta:  70 \n",
      "\n",
      "Fold \tEntrena \tVerifica \tT. Ejecución\n",
      "0  \t 0.7321  \t 0.6857  \t 1.7435\n",
      "1  \t 0.7313  \t 0.6821  \t 1.9242\n",
      "2  \t 0.7337  \t 0.6750  \t 2.2893\n",
      "3  \t 0.7302  \t 0.7250  \t 2.5837\n",
      "4  \t 0.7389  \t 0.6750  \t 2.3847\n",
      "5  \t 0.7306  \t 0.7714  \t 2.5686\n",
      "6  \t 0.7290  \t 0.7393  \t 2.6414\n",
      "7  \t 0.7345  \t 0.6750  \t 2.1033\n",
      "8  \t 0.7321  \t 0.7036  \t 1.8854\n",
      "9  \t 0.7270  \t 0.7714  \t 1.9033\n",
      "\n",
      "\n",
      "MEDIA (Verifica) = 0.7104\n",
      "MEDIA (Entrena) = 0.7319\n",
      "Tiempo total (seg) = 22.0274\n",
      "\n",
      "\n",
      "Tamaño de la capa oculta:  80 \n",
      "\n",
      "Fold \tEntrena \tVerifica \tT. Ejecución\n",
      "0  \t 0.7282  \t 0.7036  \t 1.8501\n",
      "1  \t 0.7397  \t 0.6786  \t 2.6576\n",
      "2  \t 0.7401  \t 0.6821  \t 2.5762\n",
      "3  \t 0.7258  \t 0.7250  \t 1.4863\n",
      "4  \t 0.7385  \t 0.6679  \t 3.2519\n",
      "5  \t 0.7202  \t 0.7536  \t 1.4652\n",
      "6  \t 0.7310  \t 0.7393  \t 2.7273\n",
      "7  \t 0.7405  \t 0.6821  \t 2.8888\n",
      "8  \t 0.7341  \t 0.7214  \t 2.2593\n",
      "9  \t 0.7230  \t 0.7786  \t 2.3366\n",
      "\n",
      "\n",
      "MEDIA (Verifica) = 0.7132\n",
      "MEDIA (Entrena) = 0.7321\n",
      "Tiempo total (seg) = 23.4993\n",
      "\n",
      "\n",
      "Tamaño de la capa oculta:  90 \n",
      "\n",
      "Fold \tEntrena \tVerifica \tT. Ejecución\n",
      "0  \t 0.7405  \t 0.6679  \t 3.8654\n",
      "1  \t 0.7337  \t 0.6786  \t 2.0818\n",
      "2  \t 0.7365  \t 0.6714  \t 3.0872\n",
      "3  \t 0.7313  \t 0.7179  \t 2.3346\n",
      "4  \t 0.7345  \t 0.6643  \t 3.3531\n",
      "5  \t 0.7234  \t 0.7536  \t 2.3988\n",
      "6  \t 0.7313  \t 0.7429  \t 3.1301\n",
      "7  \t 0.7421  \t 0.6679  \t 3.1200\n",
      "8  \t 0.7298  \t 0.7250  \t 2.0833\n",
      "9  \t 0.7262  \t 0.7750  \t 2.5098\n",
      "\n",
      "\n",
      "MEDIA (Verifica) = 0.7064\n",
      "MEDIA (Entrena) = 0.7329\n",
      "Tiempo total (seg) = 27.9641\n",
      "\n",
      "\n",
      "Tamaño de la capa oculta:  100 \n",
      "\n",
      "Fold \tEntrena \tVerifica \tT. Ejecución\n",
      "0  \t 0.7321  \t 0.6929  \t 1.9055\n",
      "1  \t 0.7397  \t 0.6821  \t 2.8992\n",
      "2  \t 0.7385  \t 0.6821  \t 2.9538\n",
      "3  \t 0.7290  \t 0.7179  \t 2.5150\n",
      "4  \t 0.7389  \t 0.6714  \t 2.5133\n",
      "5  \t 0.7282  \t 0.7500  \t 2.5737\n",
      "6  \t 0.7317  \t 0.7393  \t 2.7016\n",
      "7  \t 0.7397  \t 0.6857  \t 2.3445\n",
      "8  \t 0.7341  \t 0.7321  \t 3.2658\n",
      "9  \t 0.7294  \t 0.7750  \t 2.2220\n",
      "\n",
      "\n",
      "MEDIA (Verifica) = 0.7129\n",
      "MEDIA (Entrena) = 0.7341\n",
      "Tiempo total (seg) = 25.8944\n",
      "\n",
      "\n"
     ]
    }
   ],
   "source": [
    "summary = pd.DataFrame(columns = ['Tamaño oculta', 'Entrena', 'Verifica','T. Ejecución'])\n",
    "\n",
    "for i in range(K):\n",
    "    down, up = i*10,(i+1)*10\n",
    "    printArray = resultsArray[down:up,:]\n",
    "    print('Tamaño de la capa oculta: ',printArray[0][0],'\\n')\n",
    "    print('Fold \\tEntrena \\tVerifica \\tT. Ejecución')\n",
    "    for p in printArray:\n",
    "        print(p[1],' \\t','%.4f' % p[2],' \\t','%.4f' % p[3],' \\t','%.4f' % p[4])\n",
    "    print('\\n')\n",
    "    means = np.mean(printArray, axis = 0)\n",
    "    timeExec = printArray[:,4]\n",
    "    print('MEDIA (Verifica) = %.4f' % means[3])\n",
    "    print('MEDIA (Entrena) = %.4f' % means[2])\n",
    "    print('Tiempo total (seg) = %.4f' % np.sum(timeExec))\n",
    "    print('\\n')\n",
    "    \n",
    "    summary.loc[i,:] = [printArray[0][0], means[2], means[3], np.sum(timeExec)]"
   ]
  },
  {
   "cell_type": "code",
   "execution_count": 9,
   "metadata": {},
   "outputs": [],
   "source": [
    "summaryArray = np.asarray(summary)"
   ]
  },
  {
   "cell_type": "code",
   "execution_count": 10,
   "metadata": {},
   "outputs": [
    {
     "name": "stdout",
     "output_type": "stream",
     "text": [
      "Tamaño oculta \tEntrena \tVerifica \tT. Ejecución\n",
      "10  \t\t 0.7219  \t 0.7129  \t 22.4462\n",
      "20  \t\t 0.7250  \t 0.7150  \t 20.4257\n",
      "30  \t\t 0.7285  \t 0.7114  \t 22.0061\n",
      "40  \t\t 0.7274  \t 0.7100  \t 21.9417\n",
      "50  \t\t 0.7304  \t 0.7107  \t 20.9677\n",
      "60  \t\t 0.7328  \t 0.7118  \t 24.2596\n",
      "70  \t\t 0.7319  \t 0.7104  \t 22.0274\n",
      "80  \t\t 0.7321  \t 0.7132  \t 23.4993\n",
      "90  \t\t 0.7329  \t 0.7064  \t 27.9641\n",
      "100  \t\t 0.7341  \t 0.7129  \t 25.8944\n"
     ]
    }
   ],
   "source": [
    "print('Tamaño oculta \\tEntrena \\tVerifica \\tT. Ejecución')\n",
    "for s in summaryArray:\n",
    "    print(s[0],' \\t\\t','%.4f' % s[1],' \\t','%.4f' % s[2],' \\t','%.4f' % s[3])"
   ]
  },
  {
   "cell_type": "code",
   "execution_count": 11,
   "metadata": {},
   "outputs": [
    {
     "name": "stdout",
     "output_type": "stream",
     "text": [
      "El mejor resultado (0.7150) se consigue con tamaño 20 para la capa oculta.\n"
     ]
    }
   ],
   "source": [
    "bestResult = np.argmax(summaryArray[:,2])\n",
    "\n",
    "print('El mejor resultado (%.4f)' % summaryArray[bestResult][2], 'se consigue con tamaño %i para la capa oculta.' % summaryArray[bestResult][0])"
   ]
  },
  {
   "cell_type": "code",
   "execution_count": 12,
   "metadata": {},
   "outputs": [
    {
     "name": "stdout",
     "output_type": "stream",
     "text": [
      "El mejor tiempo (20.4257) se consigue con tamaño 20 para la capa oculta.\n"
     ]
    }
   ],
   "source": [
    "bestTime = np.argmin(summaryArray[:,3])\n",
    "\n",
    "print('El mejor tiempo (%.4f)' % summaryArray[bestTime][3], 'se consigue con tamaño %i para la capa oculta.' % summaryArray[bestTime][0])"
   ]
  }
 ],
 "metadata": {
  "kernelspec": {
   "display_name": "Python 3",
   "language": "python",
   "name": "python3"
  },
  "language_info": {
   "codemirror_mode": {
    "name": "ipython",
    "version": 3
   },
   "file_extension": ".py",
   "mimetype": "text/x-python",
   "name": "python",
   "nbconvert_exporter": "python",
   "pygments_lexer": "ipython3",
   "version": "3.7.6"
  }
 },
 "nbformat": 4,
 "nbformat_minor": 4
}
